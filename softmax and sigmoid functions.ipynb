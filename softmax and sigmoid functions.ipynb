{
 "cells": [
  {
   "cell_type": "code",
   "execution_count": 4,
   "metadata": {},
   "outputs": [
    {
     "name": "stdout",
     "output_type": "stream",
     "text": [
      "o/p is :: [0.8807970779778823, 0.9525741268224334, 0.9820137900379085, 0.9933071490757153] \n"
     ]
    }
   ],
   "source": [
    "import numpy as np\n",
    "\n",
    "def sigmoid(inputs):\n",
    "    sigmoid_scores = [1 / float(1 + np.exp(- x)) for x in inputs]\n",
    "    return sigmoid_scores\n",
    "\n",
    "sigmoid_inputs = [2,3,4,5]\n",
    "print(\"o/p is :: {} \".format(sigmoid(sigmoid_inputs)))    "
   ]
  },
  {
   "cell_type": "code",
   "execution_count": null,
   "metadata": {},
   "outputs": [],
   "source": []
  },
  {
   "cell_type": "code",
   "execution_count": null,
   "metadata": {},
   "outputs": [],
   "source": [
    "##Creating Sigmoid Function Graph"
   ]
  },
  {
   "cell_type": "code",
   "execution_count": 6,
   "metadata": {},
   "outputs": [
    {
     "name": "stdout",
     "output_type": "stream",
     "text": [
      "Graph X readings: range(0, 21)\n",
      "Graph Y readings: [0.5, 0.7310585786300049, 0.8807970779778823, 0.9525741268224334, 0.9820137900379085, 0.9933071490757153, 0.9975273768433653, 0.9990889488055994, 0.9996646498695336, 0.9998766054240137, 0.9999546021312976, 0.999983298578152, 0.9999938558253978, 0.999997739675702, 0.9999991684719722, 0.999999694097773, 0.9999998874648379, 0.9999999586006244, 0.9999999847700205, 0.9999999943972036, 0.9999999979388463]\n"
     ]
    },
    {
     "data": {
      "image/png": "[encoded data removed]",
      "text/plain": [
       "<matplotlib.figure.Figure at 0x7928278>"
      ]
     },
     "metadata": {},
     "output_type": "display_data"
    }
   ],
   "source": [
    "import numpy as np\n",
    "import matplotlib.pyplot as plt\n",
    "\n",
    "def sigmoid(inputs):\n",
    "    sigmoid_scores = [1 / float(1 + np.exp(- x)) for x in inputs]\n",
    "    return sigmoid_scores\n",
    "\n",
    "def graph(x,y,x_title,y_title):\n",
    "    plt.plot(x, y)\n",
    "    plt.xlabel(x_title)\n",
    "    plt.ylabel(y_title)\n",
    "    plt.show()\n",
    "\n",
    "graph_x = range(0,21)\n",
    "graph_y = sigmoid(graph_x)\n",
    "\n",
    "print (\"Graph X readings: {}\".format(graph_x))\n",
    "print (\"Graph Y readings: {}\".format(graph_y))\n",
    " \n",
    "graph(graph_x, graph_y, \"Inputs\", \"Sigmoid Scores\")"
   ]
  },
  {
   "cell_type": "code",
   "execution_count": null,
   "metadata": {},
   "outputs": [],
   "source": [
    "###to implement softmax function in python"
   ]
  },
  {
   "cell_type": "code",
   "execution_count": 13,
   "metadata": {},
   "outputs": [
    {
     "name": "stdout",
     "output_type": "stream",
     "text": [
      "Softmax Function Output :: [ 0.01275478  0.03467109  0.25618664  0.69638749]\n"
     ]
    }
   ],
   "source": [
    "import numpy as np\n",
    "def softmax(i):\n",
    "    softmax_score = (np.exp(i))/float(sum(np.exp(i)))\n",
    "    return softmax_score\n",
    "                                            \n",
    "softmax_inputs = [2,3,5,6]\n",
    "print (\"Softmax Function Output :: {}\".format(softmax(softmax_inputs)))                                    "
   ]
  },
  {
   "cell_type": "code",
   "execution_count": 16,
   "metadata": {},
   "outputs": [
    {
     "name": "stdout",
     "output_type": "stream",
     "text": [
      "Graph X readings: range(0, 21)\n",
      "Graph Y readings: [  1.30289758e-09   3.54164282e-09   9.62718331e-09   2.61693975e-08\n",
      "   7.11357976e-08   1.93367146e-07   5.25626399e-07   1.42880069e-06\n",
      "   3.88388295e-06   1.05574884e-05   2.86982290e-05   7.80098744e-05\n",
      "   2.12052824e-04   5.76419338e-04   1.56687021e-03   4.25919483e-03\n",
      "   1.15776919e-02   3.14714295e-02   8.55482149e-02   2.32544158e-01\n",
      "   6.32120559e-01]\n"
     ]
    },
    {
     "data": {
      "image/png": "[encoded data removed]",
      "text/plain": [
       "<matplotlib.figure.Figure at 0x82d6b38>"
      ]
     },
     "metadata": {},
     "output_type": "display_data"
    }
   ],
   "source": [
    "import numpy as np\n",
    "import matplotlib.pyplot as plt\n",
    "\n",
    "def softmax(i):\n",
    "    softmax_score = (np.exp(i))/float(sum(np.exp(i)))\n",
    "    return softmax_score\n",
    "                         \n",
    "\n",
    "def graph(x,y,x_title,y_title):\n",
    "    plt.plot(x, y)\n",
    "    plt.xlabel(x_title)\n",
    "    plt.ylabel(y_title)\n",
    "    plt.show()\n",
    "\n",
    "graph_x = range(0, 21)\n",
    "graph_y = softmax(graph_x)\n",
    " \n",
    "print (\"Graph X readings: {}\".format(graph_x))\n",
    "print (\"Graph Y readings: {}\".format(graph_y))\n",
    "\n",
    "graph(graph_x, graph_y, \"Inputs\", \"Softmax Scores\")"
   ]
  },
  {
   "cell_type": "code",
   "execution_count": null,
   "metadata": {},
   "outputs": [],
   "source": []
  },
  {
   "cell_type": "code",
   "execution_count": null,
   "metadata": {},
   "outputs": [],
   "source": []
  }
 ],
 "metadata": {
  "kernelspec": {
   "display_name": "Python 3",
   "language": "python",
   "name": "python3"
  },
  "language_info": {
   "codemirror_mode": {
    "name": "ipython",
    "version": 3
   },
   "file_extension": ".py",
   "mimetype": "text/x-python",
   "name": "python",
   "nbconvert_exporter": "python",
   "pygments_lexer": "ipython3",
   "version": "3.6.1"
  }
 },
 "nbformat": 4,
 "nbformat_minor": 2
}
